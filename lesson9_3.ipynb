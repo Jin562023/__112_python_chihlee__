{
 "cells": [
  {
   "cell_type": "code",
   "execution_count": 1,
   "metadata": {},
   "outputs": [],
   "source": [
    "stu1 = [78,92,65,86,74]\n",
    "stu2 = [78,95,63,72,74]\n",
    "stu3 = [62,55,73,93,64]"
   ]
  },
  {
   "cell_type": "code",
   "execution_count": 2,
   "metadata": {},
   "outputs": [
    {
     "data": {
      "text/plain": [
       "[[78, 92, 65, 86, 74], [78, 95, 63, 72, 74], [62, 55, 73, 93, 64]]"
      ]
     },
     "execution_count": 2,
     "metadata": {},
     "output_type": "execute_result"
    }
   ],
   "source": [
    "students = [stu1, stu2, stu3]\n",
    "students"
   ]
  },
  {
   "cell_type": "code",
   "execution_count": 3,
   "metadata": {},
   "outputs": [
    {
     "data": {
      "text/plain": [
       "[[78, 92, 65, 86, 74], [78, 95, 63, 72, 74], [62, 55, 73, 93, 64]]"
      ]
     },
     "execution_count": 3,
     "metadata": {},
     "output_type": "execute_result"
    }
   ],
   "source": [
    "students = list()\n",
    "students.append(stu1)\n",
    "students.append(stu2)\n",
    "students.append(stu3)\n",
    "students"
   ]
  },
  {
   "cell_type": "code",
   "execution_count": 6,
   "metadata": {},
   "outputs": [
    {
     "data": {
      "text/plain": [
       "[84, 72, 60, 65, 93]"
      ]
     },
     "execution_count": 6,
     "metadata": {},
     "output_type": "execute_result"
    }
   ],
   "source": [
    "#建立一個學生的5個分數\n",
    "import random\n",
    "stu = []\n",
    "for _ in range(5):\n",
    "    score = random.randint(50,100)\n",
    "    stu.append(score)\n",
    "\n",
    "stu"
   ]
  },
  {
   "cell_type": "code",
   "execution_count": 8,
   "metadata": {},
   "outputs": [
    {
     "data": {
      "text/plain": [
       "[[61, 63, 50, 99, 65],\n",
       " [91, 52, 62, 82, 53],\n",
       " [100, 67, 83, 78, 88],\n",
       " [93, 85, 63, 66, 86],\n",
       " [51, 86, 74, 51, 73],\n",
       " [77, 65, 84, 90, 75],\n",
       " [99, 82, 91, 99, 80],\n",
       " [86, 57, 70, 71, 55],\n",
       " [53, 65, 53, 97, 53],\n",
       " [62, 70, 58, 80, 66],\n",
       " [88, 88, 50, 76, 66],\n",
       " [97, 84, 71, 55, 93],\n",
       " [52, 94, 85, 92, 74],\n",
       " [59, 73, 52, 52, 87],\n",
       " [89, 84, 68, 89, 100],\n",
       " [84, 90, 52, 97, 89],\n",
       " [69, 65, 55, 76, 93],\n",
       " [62, 88, 99, 68, 91],\n",
       " [95, 86, 63, 56, 51],\n",
       " [59, 70, 75, 63, 72],\n",
       " [95, 92, 92, 80, 74],\n",
       " [89, 90, 81, 88, 86],\n",
       " [74, 90, 84, 70, 51],\n",
       " [90, 53, 87, 76, 51],\n",
       " [52, 94, 87, 80, 71],\n",
       " [70, 50, 67, 73, 100],\n",
       " [86, 70, 71, 95, 56],\n",
       " [64, 74, 63, 75, 50],\n",
       " [74, 61, 63, 76, 88],\n",
       " [51, 58, 96, 97, 78],\n",
       " [70, 95, 63, 73, 88],\n",
       " [58, 57, 90, 50, 96],\n",
       " [58, 80, 57, 56, 77],\n",
       " [71, 86, 66, 72, 79],\n",
       " [92, 82, 64, 84, 55],\n",
       " [53, 81, 99, 92, 91],\n",
       " [77, 82, 75, 94, 77],\n",
       " [97, 89, 100, 94, 74],\n",
       " [81, 61, 72, 65, 55],\n",
       " [50, 87, 87, 54, 100],\n",
       " [83, 89, 58, 99, 52],\n",
       " [76, 69, 54, 80, 88],\n",
       " [89, 81, 66, 66, 67],\n",
       " [89, 99, 83, 68, 81],\n",
       " [74, 96, 65, 83, 60],\n",
       " [96, 51, 80, 55, 72],\n",
       " [98, 71, 74, 62, 52],\n",
       " [71, 89, 57, 87, 63],\n",
       " [53, 58, 100, 82, 68],\n",
       " [56, 90, 61, 59, 57]]"
      ]
     },
     "execution_count": 8,
     "metadata": {},
     "output_type": "execute_result"
    }
   ],
   "source": [
    "#建立一個學生的5個分數\n",
    "#建立50個學生\n",
    "\n",
    "students = []\n",
    "for _ in range(50):\n",
    "    stu = []\n",
    "    for _ in range(5):\n",
    "        score = random.randint(50,100)\n",
    "        stu.append(score)\n",
    "    students.append(stu)\n",
    "\n",
    "students"
   ]
  },
  {
   "cell_type": "code",
   "execution_count": 10,
   "metadata": {},
   "outputs": [
    {
     "data": {
      "text/plain": [
       "[[52, 88, 50, 68, 69],\n",
       " [97, 82, 85, 72, 62],\n",
       " [84, 90, 81, 50, 57],\n",
       " [78, 57, 57, 67, 94],\n",
       " [62, 70, 89, 52, 77],\n",
       " [99, 82, 75, 74, 78],\n",
       " [72, 71, 91, 51, 59],\n",
       " [81, 91, 69, 67, 67],\n",
       " [83, 95, 63, 82, 75],\n",
       " [67, 92, 96, 87, 89],\n",
       " [98, 51, 94, 68, 76],\n",
       " [90, 93, 89, 71, 71],\n",
       " [72, 69, 65, 69, 73],\n",
       " [60, 92, 84, 76, 93],\n",
       " [67, 70, 66, 86, 56],\n",
       " [56, 58, 55, 58, 67],\n",
       " [80, 92, 61, 99, 59],\n",
       " [56, 70, 77, 99, 72],\n",
       " [97, 57, 78, 87, 93],\n",
       " [52, 71, 54, 60, 63],\n",
       " [97, 66, 98, 89, 95],\n",
       " [67, 60, 72, 92, 73],\n",
       " [81, 58, 75, 55, 92],\n",
       " [76, 79, 72, 93, 92],\n",
       " [88, 50, 98, 64, 52],\n",
       " [51, 79, 56, 97, 94],\n",
       " [60, 50, 82, 78, 58],\n",
       " [67, 89, 91, 97, 93],\n",
       " [88, 67, 77, 79, 60],\n",
       " [78, 80, 62, 55, 83],\n",
       " [83, 96, 86, 74, 90],\n",
       " [64, 56, 95, 65, 95],\n",
       " [80, 61, 87, 52, 74],\n",
       " [79, 85, 82, 55, 80],\n",
       " [71, 76, 90, 76, 63],\n",
       " [99, 80, 70, 83, 58],\n",
       " [87, 99, 100, 62, 52],\n",
       " [72, 90, 70, 96, 80],\n",
       " [85, 68, 79, 77, 57],\n",
       " [70, 100, 75, 97, 81],\n",
       " [98, 72, 78, 71, 61],\n",
       " [81, 67, 98, 61, 76],\n",
       " [58, 50, 100, 98, 100],\n",
       " [94, 97, 72, 66, 78],\n",
       " [75, 100, 95, 99, 65],\n",
       " [79, 71, 69, 74, 100],\n",
       " [83, 52, 53, 52, 69],\n",
       " [64, 81, 87, 70, 65],\n",
       " [89, 63, 56, 87, 78],\n",
       " [66, 59, 59, 87, 60]]"
      ]
     },
     "execution_count": 10,
     "metadata": {},
     "output_type": "execute_result"
    }
   ],
   "source": [
    "import random\n",
    "def createStudent()->list[int]:\n",
    "    stu = []\n",
    "    for _ in range(5):\n",
    "        score = random.randint(50,100)\n",
    "        stu.append(score)\n",
    "    return stu\n",
    "\n",
    "\n",
    "classes = []\n",
    "for _ in range(50):\n",
    "    stu = createStudent()\n",
    "    classes.append(stu)\n",
    "classes"
   ]
  },
  {
   "cell_type": "code",
   "execution_count": 19,
   "metadata": {},
   "outputs": [
    {
     "ename": "NameError",
     "evalue": "name 'createClasses' is not defined",
     "output_type": "error",
     "traceback": [
      "\u001b[0;31m---------------------------------------------------------------------------\u001b[0m",
      "\u001b[0;31mNameError\u001b[0m                                 Traceback (most recent call last)",
      "\u001b[1;32m/workspaces/__112_python_chihlee__/lesson9_3.ipynb Cell 7\u001b[0m line \u001b[0;36m1\n\u001b[1;32m     <a href='vscode-notebook-cell://codespaces%2Bscaling-parakeet-5gqw46jxw6qg3w69/workspaces/__112_python_chihlee__/lesson9_3.ipynb#W6sdnNjb2RlLXJlbW90ZQ%3D%3D?line=12'>13</a>\u001b[0m         classes\u001b[39m.\u001b[39mappend(stu)\n\u001b[1;32m     <a href='vscode-notebook-cell://codespaces%2Bscaling-parakeet-5gqw46jxw6qg3w69/workspaces/__112_python_chihlee__/lesson9_3.ipynb#W6sdnNjb2RlLXJlbW90ZQ%3D%3D?line=13'>14</a>\u001b[0m     \u001b[39mreturn\u001b[39;00m classes\n\u001b[0;32m---> <a href='vscode-notebook-cell://codespaces%2Bscaling-parakeet-5gqw46jxw6qg3w69/workspaces/__112_python_chihlee__/lesson9_3.ipynb#W6sdnNjb2RlLXJlbW90ZQ%3D%3D?line=15'>16</a>\u001b[0m createClasses(\u001b[39m10\u001b[39m)\n",
      "\u001b[0;31mNameError\u001b[0m: name 'createClasses' is not defined"
     ]
    }
   ],
   "source": [
    "import random\n",
    "def createStudent()->list[int]:\n",
    "    stu = []\n",
    "    for _ in range(5):\n",
    "        score = random.randint(50,100)\n",
    "        stu.append(score)\n",
    "    return stu\n",
    "\n",
    "def createStudent(numbers:int)->list[list]:\n",
    "    classes = []\n",
    "    for _ in range(numbers):\n",
    "        stu = createStudent()\n",
    "        classes.append(stu)\n",
    "    return classes\n",
    "\n",
    "createClasses(10)"
   ]
  },
  {
   "cell_type": "code",
   "execution_count": 6,
   "metadata": {},
   "outputs": [
    {
     "data": {
      "text/plain": [
       "[[74, 81, 67, 84, 93],\n",
       " [72, 93, 94, 74, 61],\n",
       " [85, 95, 58, 82, 61],\n",
       " [53, 90, 83, 76, 69],\n",
       " [59, 71, 89, 59, 63],\n",
       " [94, 84, 62, 95, 88],\n",
       " [84, 79, 57, 65, 93],\n",
       " [80, 68, 90, 54, 56],\n",
       " [74, 88, 58, 95, 71],\n",
       " [67, 61, 87, 80, 51]]"
      ]
     },
     "execution_count": 6,
     "metadata": {},
     "output_type": "execute_result"
    }
   ],
   "source": [
    "import random\n",
    "def createStudent()->list[int]:\n",
    "    stu = []\n",
    "    for _ in range(5):    \n",
    "        score = random.randint(50,100)\n",
    "        stu.append(score)\n",
    "    return stu\n",
    "\n",
    "def createClasses(numbers:int)->list[list]:\n",
    "    classes = []\n",
    "    for _ in range(numbers):\n",
    "        stu = createStudent()\n",
    "        classes.append(stu)\n",
    "    return classes\n",
    "\n",
    "createClasses(10)"
   ]
  },
  {
   "cell_type": "code",
   "execution_count": 4,
   "metadata": {},
   "outputs": [],
   "source": [
    "#存檔\n",
    "file = open('students.csv',mode='w',encoding='utf-8',newline='')\n",
    "file.write(\"這是測試\")\n",
    "file.close()"
   ]
  },
  {
   "cell_type": "code",
   "execution_count": 10,
   "metadata": {},
   "outputs": [
    {
     "ename": "AttributeError",
     "evalue": "module 'csv' has no attribute 'write'",
     "output_type": "error",
     "traceback": [
      "\u001b[0;31m---------------------------------------------------------------------------\u001b[0m",
      "\u001b[0;31mAttributeError\u001b[0m                            Traceback (most recent call last)",
      "\u001b[1;32m/workspaces/__112_python_chihlee__/lesson9_3.ipynb Cell 10\u001b[0m line \u001b[0;36m5\n\u001b[1;32m      <a href='vscode-notebook-cell://codespaces%2Bscaling-parakeet-5gqw46jxw6qg3w69/workspaces/__112_python_chihlee__/lesson9_3.ipynb#X12sdnNjb2RlLXJlbW90ZQ%3D%3D?line=1'>2</a>\u001b[0m \u001b[39mimport\u001b[39;00m \u001b[39mcsv\u001b[39;00m\n\u001b[1;32m      <a href='vscode-notebook-cell://codespaces%2Bscaling-parakeet-5gqw46jxw6qg3w69/workspaces/__112_python_chihlee__/lesson9_3.ipynb#X12sdnNjb2RlLXJlbW90ZQ%3D%3D?line=3'>4</a>\u001b[0m file \u001b[39m=\u001b[39m \u001b[39mopen\u001b[39m(\u001b[39m'\u001b[39m\u001b[39mstudents.csv\u001b[39m\u001b[39m'\u001b[39m,mode\u001b[39m=\u001b[39m\u001b[39m'\u001b[39m\u001b[39mw\u001b[39m\u001b[39m'\u001b[39m,encoding\u001b[39m=\u001b[39m\u001b[39m'\u001b[39m\u001b[39mutf-8\u001b[39m\u001b[39m'\u001b[39m,newline\u001b[39m=\u001b[39m\u001b[39m'\u001b[39m\u001b[39m'\u001b[39m)\n\u001b[0;32m----> <a href='vscode-notebook-cell://codespaces%2Bscaling-parakeet-5gqw46jxw6qg3w69/workspaces/__112_python_chihlee__/lesson9_3.ipynb#X12sdnNjb2RlLXJlbW90ZQ%3D%3D?line=4'>5</a>\u001b[0m csv_writer \u001b[39m=\u001b[39m csv\u001b[39m.\u001b[39;49mwrite(file)\n\u001b[1;32m      <a href='vscode-notebook-cell://codespaces%2Bscaling-parakeet-5gqw46jxw6qg3w69/workspaces/__112_python_chihlee__/lesson9_3.ipynb#X12sdnNjb2RlLXJlbW90ZQ%3D%3D?line=5'>6</a>\u001b[0m csv_writer\u001b[39m.\u001b[39mwriterow([\u001b[39m\"\u001b[39m\u001b[39m國文\u001b[39m\u001b[39m\"\u001b[39m,\u001b[39m\"\u001b[39m\u001b[39m英文\u001b[39m\u001b[39m\"\u001b[39m,\u001b[39m\"\u001b[39m\u001b[39m數學\u001b[39m\u001b[39m\"\u001b[39m,\u001b[39m\"\u001b[39m\u001b[39m地理\u001b[39m\u001b[39m\"\u001b[39m,\u001b[39m\"\u001b[39m\u001b[39m歷史\u001b[39m\u001b[39m\"\u001b[39m])\n\u001b[1;32m      <a href='vscode-notebook-cell://codespaces%2Bscaling-parakeet-5gqw46jxw6qg3w69/workspaces/__112_python_chihlee__/lesson9_3.ipynb#X12sdnNjb2RlLXJlbW90ZQ%3D%3D?line=6'>7</a>\u001b[0m csv_writer\u001b[39m.\u001b[39mwriterows(students)\n",
      "\u001b[0;31mAttributeError\u001b[0m: module 'csv' has no attribute 'write'"
     ]
    }
   ],
   "source": [
    "#存檔\n",
    "import csv\n",
    "\n",
    "file = open('students.csv',mode='w',encoding='utf-8',newline='')\n",
    "csv_writer = csv.write(file)\n",
    "csv_writer.writerow([\"國文\",\"英文\",\"數學\",\"地理\",\"歷史\"])\n",
    "csv_writer.writerows(students)\n",
    "file.close()"
   ]
  }
 ],
 "metadata": {
  "kernelspec": {
   "display_name": "Python 3",
   "language": "python",
   "name": "python3"
  },
  "language_info": {
   "codemirror_mode": {
    "name": "ipython",
    "version": 3
   },
   "file_extension": ".py",
   "mimetype": "text/x-python",
   "name": "python",
   "nbconvert_exporter": "python",
   "pygments_lexer": "ipython3",
   "version": "3.10.13"
  }
 },
 "nbformat": 4,
 "nbformat_minor": 2
}
