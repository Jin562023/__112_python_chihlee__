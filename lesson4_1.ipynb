{
 "cells": [
  {
   "cell_type": "code",
   "execution_count": 20,
   "metadata": {},
   "outputs": [
    {
     "name": "stdout",
     "output_type": "stream",
     "text": [
      "請輸入學生分數(最高300分):學生(name)分數為270\n"
     ]
    }
   ],
   "source": [
    "#學生總分為300\n",
    "import pyinputplus as pyip\n",
    "\n",
    "scores = pyip.inputInt(\"請輸入學生分數(最高300分):\")\n",
    "name = \"徐國堂\"\n",
    "if scores <=300:\n",
    "    print(f\"學生(name)分數為{scores}\") #字串插補\n",
    "else:\n",
    "    print(f\"豬頭,不可以超過300\")"
   ]
  },
  {
   "cell_type": "code",
   "execution_count": 23,
   "metadata": {},
   "outputs": [
    {
     "name": "stdout",
     "output_type": "stream",
     "text": [
      "請輸入學生分數(最高300分):\n",
      "學生(name)分數為270\n"
     ]
    }
   ],
   "source": [
    "#學生總分為300\n",
    "import pyinputplus as pyip\n",
    "\n",
    "scores = pyip.inputInt(\"請輸入學生分數(最高300分):\",min=0,max=300)\n",
    "name = \"徐國堂\"\n",
    "print()\n",
    "print(f\"學生(name)分數為{scores}\") #字串插補"
   ]
  },
  {
   "cell_type": "code",
   "execution_count": 1,
   "metadata": {},
   "outputs": [
    {
     "name": "stdout",
     "output_type": "stream",
     "text": [
      "請輸入學生分數(最高300分):270\n"
     ]
    },
    {
     "ename": "PySimpleValidateException",
     "evalue": "choices arg must be a sequence",
     "output_type": "error",
     "traceback": [
      "\u001b[0;31m---------------------------------------------------------------------------\u001b[0m",
      "\u001b[0;31mPySimpleValidateException\u001b[0m                 Traceback (most recent call last)",
      "\u001b[1;32m/workspaces/__112_python_chihlee__/lesson4_1.ipynb Cell 3\u001b[0m line \u001b[0;36m5\n\u001b[1;32m      <a href='vscode-notebook-cell://codespaces%2Bscaling-parakeet-5gqw46jxw6qg3w69/workspaces/__112_python_chihlee__/lesson4_1.ipynb#W2sdnNjb2RlLXJlbW90ZQ%3D%3D?line=2'>3</a>\u001b[0m scores \u001b[39m=\u001b[39m pyip\u001b[39m.\u001b[39minputInt(\u001b[39m\"\u001b[39m\u001b[39m請輸入學生分數(最高300分):\u001b[39m\u001b[39m\"\u001b[39m,\u001b[39mmin\u001b[39m\u001b[39m=\u001b[39m\u001b[39m0\u001b[39m,\u001b[39mmax\u001b[39m\u001b[39m=\u001b[39m\u001b[39m300\u001b[39m)\n\u001b[1;32m      <a href='vscode-notebook-cell://codespaces%2Bscaling-parakeet-5gqw46jxw6qg3w69/workspaces/__112_python_chihlee__/lesson4_1.ipynb#W2sdnNjb2RlLXJlbW90ZQ%3D%3D?line=3'>4</a>\u001b[0m \u001b[39mprint\u001b[39m(scores)\n\u001b[0;32m----> <a href='vscode-notebook-cell://codespaces%2Bscaling-parakeet-5gqw46jxw6qg3w69/workspaces/__112_python_chihlee__/lesson4_1.ipynb#W2sdnNjb2RlLXJlbW90ZQ%3D%3D?line=4'>5</a>\u001b[0m isYes \u001b[39m=\u001b[39m pyip\u001b[39m.\u001b[39;49minputMenu({\u001b[39m'\u001b[39;49m\u001b[39my\u001b[39;49m\u001b[39m'\u001b[39;49m,\u001b[39m'\u001b[39;49m\u001b[39mn\u001b[39;49m\u001b[39m'\u001b[39;49m},prompt\u001b[39m=\u001b[39;49m\u001b[39m\"\u001b[39;49m\u001b[39m學生是否符合加分條件(請選擇1或2)?\u001b[39;49m\u001b[39m\\n\u001b[39;49;00m\u001b[39m\"\u001b[39;49m,numbered\u001b[39m=\u001b[39;49m\u001b[39mTrue\u001b[39;49;00m)\n\u001b[1;32m      <a href='vscode-notebook-cell://codespaces%2Bscaling-parakeet-5gqw46jxw6qg3w69/workspaces/__112_python_chihlee__/lesson4_1.ipynb#W2sdnNjb2RlLXJlbW90ZQ%3D%3D?line=5'>6</a>\u001b[0m \u001b[39mprint\u001b[39m()\n\u001b[1;32m      <a href='vscode-notebook-cell://codespaces%2Bscaling-parakeet-5gqw46jxw6qg3w69/workspaces/__112_python_chihlee__/lesson4_1.ipynb#W2sdnNjb2RlLXJlbW90ZQ%3D%3D?line=6'>7</a>\u001b[0m \u001b[39mprint\u001b[39m(isYes)\n",
      "File \u001b[0;32m~/.local/lib/python3.10/site-packages/pyinputplus/__init__.py:728\u001b[0m, in \u001b[0;36minputMenu\u001b[0;34m(choices, prompt, default, blank, timeout, limit, strip, allowRegexes, blockRegexes, applyFunc, postValidateApplyFunc, numbered, lettered, caseSensitive)\u001b[0m\n\u001b[1;32m    678\u001b[0m \u001b[39m\u001b[39m\u001b[39m\"\"\"Prompts the user to enter one of the provided choices.\u001b[39;00m\n\u001b[1;32m    679\u001b[0m \u001b[39mAlso displays a small menu with bulleted, numbered, or lettered options.\u001b[39;00m\n\u001b[1;32m    680\u001b[0m \u001b[39mReturns the selected choice as a string.\u001b[39;00m\n\u001b[0;32m   (...)\u001b[0m\n\u001b[1;32m    725\u001b[0m \u001b[39m'dog'\u001b[39;00m\n\u001b[1;32m    726\u001b[0m \u001b[39m\"\"\"\u001b[39;00m\n\u001b[1;32m    727\u001b[0m \u001b[39m# Validate the arguments passed to pysv.validateChoice().\u001b[39;00m\n\u001b[0;32m--> 728\u001b[0m pysv\u001b[39m.\u001b[39;49m_validateParamsFor_validateChoice(\n\u001b[1;32m    729\u001b[0m     choices,\n\u001b[1;32m    730\u001b[0m     blank\u001b[39m=\u001b[39;49mblank,\n\u001b[1;32m    731\u001b[0m     strip\u001b[39m=\u001b[39;49mstrip,\n\u001b[1;32m    732\u001b[0m     allowRegexes\u001b[39m=\u001b[39;49mallowRegexes,\n\u001b[1;32m    733\u001b[0m     blockRegexes\u001b[39m=\u001b[39;49mblockRegexes,\n\u001b[1;32m    734\u001b[0m     numbered\u001b[39m=\u001b[39;49mnumbered,\n\u001b[1;32m    735\u001b[0m     lettered\u001b[39m=\u001b[39;49mlettered,\n\u001b[1;32m    736\u001b[0m     caseSensitive\u001b[39m=\u001b[39;49mcaseSensitive,\n\u001b[1;32m    737\u001b[0m )\n\u001b[1;32m    739\u001b[0m validationFunc \u001b[39m=\u001b[39m \u001b[39mlambda\u001b[39;00m value: pysv\u001b[39m.\u001b[39mvalidateChoice(\n\u001b[1;32m    740\u001b[0m     value,\n\u001b[1;32m    741\u001b[0m     choices\u001b[39m=\u001b[39mchoices,\n\u001b[0;32m   (...)\u001b[0m\n\u001b[1;32m    748\u001b[0m     caseSensitive\u001b[39m=\u001b[39mcaseSensitive,\n\u001b[1;32m    749\u001b[0m )\n\u001b[1;32m    751\u001b[0m \u001b[39mif\u001b[39;00m prompt \u001b[39m==\u001b[39m \u001b[39m\"\u001b[39m\u001b[39m_default\u001b[39m\u001b[39m\"\u001b[39m:\n",
      "File \u001b[0;32m~/.local/lib/python3.10/site-packages/pysimplevalidate/__init__.py:707\u001b[0m, in \u001b[0;36m_validateParamsFor_validateChoice\u001b[0;34m(choices, blank, strip, allowRegexes, blockRegexes, numbered, lettered, caseSensitive, excMsg)\u001b[0m\n\u001b[1;32m    704\u001b[0m     \u001b[39mraise\u001b[39;00m PySimpleValidateException(\u001b[39m\"\u001b[39m\u001b[39mcaseSensitive argument must be a bool\u001b[39m\u001b[39m\"\u001b[39m)\n\u001b[1;32m    706\u001b[0m \u001b[39mif\u001b[39;00m \u001b[39mnot\u001b[39;00m \u001b[39misinstance\u001b[39m(choices, SEQUENCE_ABC):\n\u001b[0;32m--> 707\u001b[0m     \u001b[39mraise\u001b[39;00m PySimpleValidateException(\u001b[39m\"\u001b[39m\u001b[39mchoices arg must be a sequence\u001b[39m\u001b[39m\"\u001b[39m)\n\u001b[1;32m    709\u001b[0m \u001b[39mtry\u001b[39;00m:\n\u001b[1;32m    710\u001b[0m     \u001b[39mlen\u001b[39m(choices)\n",
      "\u001b[0;31mPySimpleValidateException\u001b[0m: choices arg must be a sequence"
     ]
    }
   ],
   "source": [
    "import pyinputplus as pyip\n",
    "\n",
    "scores = pyip.inputInt(\"請輸入學生分數(最高300分):\",min=0,max=300)\n",
    "print(scores)\n",
    "isYes = pyip.inputMenu({'y','n'},prompt=\"學生是否符合加分條件(請選擇1或2)?\\n\",numbered=True)\n",
    "print()\n",
    "print(isYes)"
   ]
  }
 ],
 "metadata": {
  "kernelspec": {
   "display_name": "Python 3",
   "language": "python",
   "name": "python3"
  },
  "language_info": {
   "codemirror_mode": {
    "name": "ipython",
    "version": 3
   },
   "file_extension": ".py",
   "mimetype": "text/x-python",
   "name": "python",
   "nbconvert_exporter": "python",
   "pygments_lexer": "ipython3",
   "version": "3.10.13"
  }
 },
 "nbformat": 4,
 "nbformat_minor": 2
}
